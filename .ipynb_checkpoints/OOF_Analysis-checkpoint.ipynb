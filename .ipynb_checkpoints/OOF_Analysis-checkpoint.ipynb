{
 "cells": [
  {
   "cell_type": "code",
   "execution_count": 4,
   "id": "9b05a17d-6140-4f73-83ef-5601797c6371",
   "metadata": {},
   "outputs": [],
   "source": [
    "import numpy as np\n",
    "import pandas as pd\n",
    "\n",
    "from EvaluationMetrics import amex_metric_mod\n"
   ]
  },
  {
   "cell_type": "code",
   "execution_count": 3,
   "id": "05b6ae9f-d4c3-400f-83e8-fd5721a9ce8a",
   "metadata": {},
   "outputs": [],
   "source": [
    "xgb_oof = pd.read_csv('oof_xgb_v3.csv')\n",
    "lgb_oof = pd.read_csv('oof_lgb_v3.csv')\n"
   ]
  },
  {
   "cell_type": "code",
   "execution_count": 5,
   "id": "78e797dc-1a0f-43c2-9044-62fcce6db601",
   "metadata": {},
   "outputs": [
    {
     "data": {
      "text/html": [
       "<div>\n",
       "<style scoped>\n",
       "    .dataframe tbody tr th:only-of-type {\n",
       "        vertical-align: middle;\n",
       "    }\n",
       "\n",
       "    .dataframe tbody tr th {\n",
       "        vertical-align: top;\n",
       "    }\n",
       "\n",
       "    .dataframe thead th {\n",
       "        text-align: right;\n",
       "    }\n",
       "</style>\n",
       "<table border=\"1\" class=\"dataframe\">\n",
       "  <thead>\n",
       "    <tr style=\"text-align: right;\">\n",
       "      <th></th>\n",
       "      <th>customer_ID</th>\n",
       "      <th>target</th>\n",
       "      <th>oof_pred</th>\n",
       "    </tr>\n",
       "  </thead>\n",
       "  <tbody>\n",
       "    <tr>\n",
       "      <th>0</th>\n",
       "      <td>02ae9996de3f1b6d3e6dc9c72d0d95726e4284d241bc29...</td>\n",
       "      <td>0</td>\n",
       "      <td>0.518824</td>\n",
       "    </tr>\n",
       "    <tr>\n",
       "      <th>1</th>\n",
       "      <td>5dbb2dd017bb93dc35381053ca3eb4cd934fe87e2c3a5b...</td>\n",
       "      <td>0</td>\n",
       "      <td>0.507299</td>\n",
       "    </tr>\n",
       "    <tr>\n",
       "      <th>2</th>\n",
       "      <td>e3ed3c2dd1b2b96eb15e5526f4f06cb9eb185a01632ce8...</td>\n",
       "      <td>0</td>\n",
       "      <td>0.499404</td>\n",
       "    </tr>\n",
       "    <tr>\n",
       "      <th>3</th>\n",
       "      <td>c7df43d592b75adafb8e201239abb073a44ca6d9580ac5...</td>\n",
       "      <td>0</td>\n",
       "      <td>0.500192</td>\n",
       "    </tr>\n",
       "    <tr>\n",
       "      <th>4</th>\n",
       "      <td>28789fe08957aa50f34a6b80817546b13ee8857ed241ef...</td>\n",
       "      <td>0</td>\n",
       "      <td>0.515126</td>\n",
       "    </tr>\n",
       "  </tbody>\n",
       "</table>\n",
       "</div>"
      ],
      "text/plain": [
       "                                         customer_ID  target  oof_pred\n",
       "0  02ae9996de3f1b6d3e6dc9c72d0d95726e4284d241bc29...       0  0.518824\n",
       "1  5dbb2dd017bb93dc35381053ca3eb4cd934fe87e2c3a5b...       0  0.507299\n",
       "2  e3ed3c2dd1b2b96eb15e5526f4f06cb9eb185a01632ce8...       0  0.499404\n",
       "3  c7df43d592b75adafb8e201239abb073a44ca6d9580ac5...       0  0.500192\n",
       "4  28789fe08957aa50f34a6b80817546b13ee8857ed241ef...       0  0.515126"
      ]
     },
     "execution_count": 5,
     "metadata": {},
     "output_type": "execute_result"
    }
   ],
   "source": [
    "xgb_oof.head()"
   ]
  },
  {
   "cell_type": "code",
   "execution_count": 11,
   "id": "716baf23-036f-4f39-97d5-9e5557259928",
   "metadata": {},
   "outputs": [],
   "source": [
    "xgb_score = amex_metric_mod(xgb_oof['target'], xgb_oof.oof_pred.values)\n",
    "lgb_score = amex_metric_mod(lgb_oof['target'], lgb_oof.oof_pred.values)"
   ]
  },
  {
   "cell_type": "code",
   "execution_count": 13,
   "id": "7e8c830a-03bf-4dce-9768-069418536bee",
   "metadata": {},
   "outputs": [
    {
     "name": "stdout",
     "output_type": "stream",
     "text": [
      " xgb Kaggle score 0.021241572745324663 \n",
      " lgb Kaggle score 0.02087666430065401\n"
     ]
    }
   ],
   "source": [
    "print(f' xgb Kaggle score {xgb_score}', '\\n'\n",
    "     f' lgb Kaggle score {lgb_score}')"
   ]
  },
  {
   "cell_type": "code",
   "execution_count": null,
   "id": "30e29faa-1bcd-4954-9fa2-33dd6005c2aa",
   "metadata": {},
   "outputs": [],
   "source": []
  }
 ],
 "metadata": {
  "kernelspec": {
   "display_name": "Python 3 (ipykernel)",
   "language": "python",
   "name": "python3"
  },
  "language_info": {
   "codemirror_mode": {
    "name": "ipython",
    "version": 3
   },
   "file_extension": ".py",
   "mimetype": "text/x-python",
   "name": "python",
   "nbconvert_exporter": "python",
   "pygments_lexer": "ipython3",
   "version": "3.7.4"
  }
 },
 "nbformat": 4,
 "nbformat_minor": 5
}
