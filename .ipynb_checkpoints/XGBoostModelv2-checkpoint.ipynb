{
 "cells": [
  {
   "cell_type": "code",
   "execution_count": 32,
   "id": "b0dfbeeb-12e3-48bc-874c-0a8e4c4dfbe6",
   "metadata": {},
   "outputs": [],
   "source": [
    "import pandas as pd\n",
    "import numpy as np\n",
    "import gc\n",
    "# import cupy\n",
    "import xgboost as xgb\n",
    "import matplotlib.pyplot as plt\n",
    "from sklearn.model_selection import train_test_split\n",
    "from sklearn.model_selection import KFold\n",
    "from sklearn.model_selection import StratifiedKFold\n",
    "from sklearn.inspection import permutation_importance\n",
    "\n",
    "from DataPipeline import agglomeration_function\n",
    "from DataPipeline import null_filtering\n",
    "\n",
    "from EvaluationMetrics import amex_metric_mod"
   ]
  },
  {
   "cell_type": "code",
   "execution_count": 33,
   "id": "d4139ed1-e8b3-4719-92d5-62242ca1c83f",
   "metadata": {},
   "outputs": [
    {
     "name": "stdout",
     "output_type": "stream",
     "text": [
      "The autoreload extension is already loaded. To reload it, use:\n",
      "  %reload_ext autoreload\n"
     ]
    }
   ],
   "source": [
    "%load_ext autoreload\n",
    "%autoreload 2"
   ]
  },
  {
   "cell_type": "code",
   "execution_count": 34,
   "id": "bdde4df4-794c-407c-9a61-bed016bb11f9",
   "metadata": {},
   "outputs": [],
   "source": [
    "train_df = pd.read_parquet('Processed_Data/cleaned_train.parquet')"
   ]
  },
  {
   "cell_type": "code",
   "execution_count": 35,
   "id": "07a86a99-7a59-4837-8ec9-308458b0be37",
   "metadata": {},
   "outputs": [],
   "source": [
    "# train_df = train_df.iloc[:10000,:]"
   ]
  },
  {
   "cell_type": "code",
   "execution_count": 36,
   "id": "14b7e542-8515-4327-a73e-e084767feb29",
   "metadata": {},
   "outputs": [],
   "source": [
    "null_threshold = 0.95\n",
    "\n",
    "null_columns = null_filtering(train_df.iloc[:, 1:-1], null_threshold=null_threshold)\n",
    "\n",
    "class Train_Parameters:\n",
    "    compute_train_df = False # if True, we will compute a new train_df, otherwise we read from drive\n",
    "    compute_test_df = False # if True, we will compute a new test_df, otherwise we read from drive\n",
    "\n",
    "# Key parameters\n",
    "class Model_Parameters:\n",
    "    irrelevant_columns = [\"customer_ID\", \"target\"]\n",
    "    other_columns = ['S_2']\n",
    "    categorical_columns = [\"D_63\", \n",
    "                           \"D_64\", \"D_66\", \n",
    "                           \"D_68\", \"B_30\", \n",
    "                           \"B_38\", \"D_114\", \n",
    "                           \"D_116\", \"D_117\", \n",
    "                           \"D_120\", \"D_126\"]  \n",
    "    train_test_delta_columns = [] #['R_1', 'D_59', 'S_11', 'B_29', 'S_9'] # columns with different distributions between train and test\n",
    "    \n",
    "    ignored_columns = train_test_delta_columns + list(null_columns.values) + other_columns #+ categorical_columns \n",
    "    valid_size = 0.2\n",
    "    SEED = 10\n",
    "    FOLDS = 2\n",
    "    VER = 2"
   ]
  },
  {
   "cell_type": "code",
   "execution_count": 38,
   "id": "1c3c557e-2968-4f80-8617-612252fa4d05",
   "metadata": {},
   "outputs": [],
   "source": [
    "xgb_parms = { \n",
    "    'max_depth':5, \n",
    "    'learning_rate':0.05, \n",
    "    'subsample':0.8,\n",
    "    'colsample_bytree':0.6, \n",
    "    'eval_metric':'logloss',\n",
    "    'objective':'binary:logistic',\n",
    "    'tree_method':'gpu_hist',\n",
    "    'predictor':'gpu_predictor',\n",
    "    'random_state':Model_Parameters.SEED,\n",
    "    'scale_pos_weight':3\n",
    "}"
   ]
  },
  {
   "cell_type": "code",
   "execution_count": null,
   "id": "da17a75f-74ac-4056-b5fb-0f3b86b436cc",
   "metadata": {},
   "outputs": [],
   "source": [
    "def objective(trial):\n",
    "    param = {\n",
    "        'scaled_pos_weight': trial.suggest_int(\n",
    "            'scaled_pos_weight': 5, 15, 10),\n",
    "    }\n",
    "    \n",
    "    model = "
   ]
  },
  {
   "cell_type": "code",
   "execution_count": 39,
   "id": "88759f46-b0bc-4b4f-bbc8-eef1af474649",
   "metadata": {},
   "outputs": [],
   "source": [
    "num_features = [col for col in train_df.columns if ((col not in Model_Parameters.ignored_columns) \n",
    "                                                    and (col not in Model_Parameters.categorical_columns) \n",
    "                                                    and (col not in Model_Parameters.irrelevant_columns))]\n",
    "cat_features = [col for col in train_df.columns if col in Model_Parameters.categorical_columns]"
   ]
  },
  {
   "cell_type": "code",
   "execution_count": 40,
   "id": "d704ac69-2d21-494d-97bd-7b55d2d17224",
   "metadata": {},
   "outputs": [],
   "source": [
    "if Train_Parameters.compute_train_df:\n",
    "\n",
    "    train = train_df.loc[:, ~train_df.columns.isin(Model_Parameters.ignored_columns)]\n",
    "    train = agglomeration_function(train, num_features=num_features, cat_features=cat_features, apply_pca=False)\n",
    "    customer_ID_cols = train_df.groupby('customer_ID')['customer_ID'].tail(1).reset_index(drop=True)\n",
    "    train = pd.concat([customer_ID_cols, train], axis=1)\n",
    "    train.to_csv('Processed_Data/train_df_cleaned.csv', index=False)\n",
    "else:\n",
    "    train = pd.read_csv('Processed_Data/train_df_cleaned.csv')"
   ]
  },
  {
   "cell_type": "code",
   "execution_count": 41,
   "id": "1f6f97c6-3ff1-4972-bc66-6dd70c94e773",
   "metadata": {},
   "outputs": [
    {
     "data": {
      "text/html": [
       "<div>\n",
       "<style scoped>\n",
       "    .dataframe tbody tr th:only-of-type {\n",
       "        vertical-align: middle;\n",
       "    }\n",
       "\n",
       "    .dataframe tbody tr th {\n",
       "        vertical-align: top;\n",
       "    }\n",
       "\n",
       "    .dataframe thead th {\n",
       "        text-align: right;\n",
       "    }\n",
       "</style>\n",
       "<table border=\"1\" class=\"dataframe\">\n",
       "  <thead>\n",
       "    <tr style=\"text-align: right;\">\n",
       "      <th></th>\n",
       "      <th>customer_ID</th>\n",
       "      <th>P_2_mean</th>\n",
       "      <th>P_2_median</th>\n",
       "      <th>P_2_std</th>\n",
       "      <th>P_2_min</th>\n",
       "      <th>P_2_max</th>\n",
       "      <th>P_2_last</th>\n",
       "      <th>D_39_mean</th>\n",
       "      <th>D_39_median</th>\n",
       "      <th>D_39_std</th>\n",
       "      <th>...</th>\n",
       "      <th>D_117_count</th>\n",
       "      <th>D_117_last</th>\n",
       "      <th>D_117_nunique</th>\n",
       "      <th>D_120_count</th>\n",
       "      <th>D_120_last</th>\n",
       "      <th>D_120_nunique</th>\n",
       "      <th>D_126_count</th>\n",
       "      <th>D_126_last</th>\n",
       "      <th>D_126_nunique</th>\n",
       "      <th>target</th>\n",
       "    </tr>\n",
       "  </thead>\n",
       "  <tbody>\n",
       "    <tr>\n",
       "      <td>0</td>\n",
       "      <td>0000099d6bd597052cdcda90ffabf56573fe9d7c79be5f...</td>\n",
       "      <td>0.933824</td>\n",
       "      <td>0.938469</td>\n",
       "      <td>0.024194</td>\n",
       "      <td>0.868580</td>\n",
       "      <td>0.960384</td>\n",
       "      <td>0.934745</td>\n",
       "      <td>0.230769</td>\n",
       "      <td>0.0</td>\n",
       "      <td>0.832050</td>\n",
       "      <td>...</td>\n",
       "      <td>13</td>\n",
       "      <td>5</td>\n",
       "      <td>1</td>\n",
       "      <td>13</td>\n",
       "      <td>0</td>\n",
       "      <td>1</td>\n",
       "      <td>13</td>\n",
       "      <td>2</td>\n",
       "      <td>1</td>\n",
       "      <td>0</td>\n",
       "    </tr>\n",
       "    <tr>\n",
       "      <td>1</td>\n",
       "      <td>00000fd6641609c6ece5454664794f0340ad84dddce9a2...</td>\n",
       "      <td>0.899820</td>\n",
       "      <td>0.904814</td>\n",
       "      <td>0.022119</td>\n",
       "      <td>0.861109</td>\n",
       "      <td>0.929122</td>\n",
       "      <td>0.880519</td>\n",
       "      <td>7.153846</td>\n",
       "      <td>7.0</td>\n",
       "      <td>6.743468</td>\n",
       "      <td>...</td>\n",
       "      <td>13</td>\n",
       "      <td>0</td>\n",
       "      <td>1</td>\n",
       "      <td>13</td>\n",
       "      <td>0</td>\n",
       "      <td>2</td>\n",
       "      <td>13</td>\n",
       "      <td>2</td>\n",
       "      <td>1</td>\n",
       "      <td>0</td>\n",
       "    </tr>\n",
       "    <tr>\n",
       "      <td>2</td>\n",
       "      <td>00001b22f846c82c51f6e3958ccd81970162bae8b007e8...</td>\n",
       "      <td>0.878454</td>\n",
       "      <td>0.884522</td>\n",
       "      <td>0.028911</td>\n",
       "      <td>0.797670</td>\n",
       "      <td>0.904482</td>\n",
       "      <td>0.880875</td>\n",
       "      <td>0.000000</td>\n",
       "      <td>0.0</td>\n",
       "      <td>0.000000</td>\n",
       "      <td>...</td>\n",
       "      <td>13</td>\n",
       "      <td>0</td>\n",
       "      <td>1</td>\n",
       "      <td>13</td>\n",
       "      <td>0</td>\n",
       "      <td>1</td>\n",
       "      <td>13</td>\n",
       "      <td>2</td>\n",
       "      <td>1</td>\n",
       "      <td>0</td>\n",
       "    </tr>\n",
       "    <tr>\n",
       "      <td>3</td>\n",
       "      <td>000041bdba6ecadd89a52d11886e8eaaec9325906c9723...</td>\n",
       "      <td>0.598969</td>\n",
       "      <td>0.598278</td>\n",
       "      <td>0.020107</td>\n",
       "      <td>0.567442</td>\n",
       "      <td>0.623392</td>\n",
       "      <td>0.621776</td>\n",
       "      <td>1.538462</td>\n",
       "      <td>0.0</td>\n",
       "      <td>3.017046</td>\n",
       "      <td>...</td>\n",
       "      <td>13</td>\n",
       "      <td>7</td>\n",
       "      <td>2</td>\n",
       "      <td>13</td>\n",
       "      <td>0</td>\n",
       "      <td>1</td>\n",
       "      <td>13</td>\n",
       "      <td>2</td>\n",
       "      <td>1</td>\n",
       "      <td>0</td>\n",
       "    </tr>\n",
       "    <tr>\n",
       "      <td>4</td>\n",
       "      <td>00007889e4fcd2614b6cbe7f8f3d2e5c728eca32d9eb8a...</td>\n",
       "      <td>0.891679</td>\n",
       "      <td>0.879238</td>\n",
       "      <td>0.042325</td>\n",
       "      <td>0.805045</td>\n",
       "      <td>0.940382</td>\n",
       "      <td>0.871900</td>\n",
       "      <td>0.000000</td>\n",
       "      <td>0.0</td>\n",
       "      <td>0.000000</td>\n",
       "      <td>...</td>\n",
       "      <td>13</td>\n",
       "      <td>5</td>\n",
       "      <td>1</td>\n",
       "      <td>13</td>\n",
       "      <td>0</td>\n",
       "      <td>1</td>\n",
       "      <td>13</td>\n",
       "      <td>2</td>\n",
       "      <td>1</td>\n",
       "      <td>0</td>\n",
       "    </tr>\n",
       "  </tbody>\n",
       "</table>\n",
       "<p>5 rows × 1061 columns</p>\n",
       "</div>"
      ],
      "text/plain": [
       "                                         customer_ID  P_2_mean  P_2_median  \\\n",
       "0  0000099d6bd597052cdcda90ffabf56573fe9d7c79be5f...  0.933824    0.938469   \n",
       "1  00000fd6641609c6ece5454664794f0340ad84dddce9a2...  0.899820    0.904814   \n",
       "2  00001b22f846c82c51f6e3958ccd81970162bae8b007e8...  0.878454    0.884522   \n",
       "3  000041bdba6ecadd89a52d11886e8eaaec9325906c9723...  0.598969    0.598278   \n",
       "4  00007889e4fcd2614b6cbe7f8f3d2e5c728eca32d9eb8a...  0.891679    0.879238   \n",
       "\n",
       "    P_2_std   P_2_min   P_2_max  P_2_last  D_39_mean  D_39_median  D_39_std  \\\n",
       "0  0.024194  0.868580  0.960384  0.934745   0.230769          0.0  0.832050   \n",
       "1  0.022119  0.861109  0.929122  0.880519   7.153846          7.0  6.743468   \n",
       "2  0.028911  0.797670  0.904482  0.880875   0.000000          0.0  0.000000   \n",
       "3  0.020107  0.567442  0.623392  0.621776   1.538462          0.0  3.017046   \n",
       "4  0.042325  0.805045  0.940382  0.871900   0.000000          0.0  0.000000   \n",
       "\n",
       "   ...  D_117_count  D_117_last  D_117_nunique  D_120_count  D_120_last  \\\n",
       "0  ...           13           5              1           13           0   \n",
       "1  ...           13           0              1           13           0   \n",
       "2  ...           13           0              1           13           0   \n",
       "3  ...           13           7              2           13           0   \n",
       "4  ...           13           5              1           13           0   \n",
       "\n",
       "   D_120_nunique  D_126_count  D_126_last  D_126_nunique  target  \n",
       "0              1           13           2              1       0  \n",
       "1              2           13           2              1       0  \n",
       "2              1           13           2              1       0  \n",
       "3              1           13           2              1       0  \n",
       "4              1           13           2              1       0  \n",
       "\n",
       "[5 rows x 1061 columns]"
      ]
     },
     "execution_count": 41,
     "metadata": {},
     "output_type": "execute_result"
    }
   ],
   "source": [
    "train.head()"
   ]
  },
  {
   "cell_type": "code",
   "execution_count": null,
   "id": "d10b7f8c-db0b-4b20-bc10-198d68782e73",
   "metadata": {},
   "outputs": [
    {
     "name": "stdout",
     "output_type": "stream",
     "text": [
      "#########################\n",
      "### Fold 1\n",
      "### Train size 229456 Valid size 229457\n",
      "### Train shape (458913, 1059)\n",
      "### Training with 100% fold data...\n",
      "#########################\n",
      "[0]\ttrain-logloss:0.66450\tvalid-logloss:0.66455\n",
      "[100]\ttrain-logloss:0.26984\tvalid-logloss:0.27700\n",
      "[200]\ttrain-logloss:0.25054\tvalid-logloss:0.26461\n",
      "[300]\ttrain-logloss:0.23968\tvalid-logloss:0.26001\n",
      "[400]\ttrain-logloss:0.23107\tvalid-logloss:0.25735\n",
      "[500]\ttrain-logloss:0.22350\tvalid-logloss:0.25546\n",
      "[600]\ttrain-logloss:0.21655\tvalid-logloss:0.25397\n",
      "[700]\ttrain-logloss:0.21028\tvalid-logloss:0.25279\n",
      "[800]\ttrain-logloss:0.20399\tvalid-logloss:0.25153\n",
      "[900]\ttrain-logloss:0.19821\tvalid-logloss:0.25058\n",
      "[1000]\ttrain-logloss:0.19248\tvalid-logloss:0.24976\n",
      "[1100]\ttrain-logloss:0.18695\tvalid-logloss:0.24897\n",
      "[1200]\ttrain-logloss:0.18163\tvalid-logloss:0.24818\n",
      "[1300]\ttrain-logloss:0.17639\tvalid-logloss:0.24735\n",
      "[1400]\ttrain-logloss:0.17123\tvalid-logloss:0.24673\n",
      "[1500]\ttrain-logloss:0.16646\tvalid-logloss:0.24610\n",
      "[1600]\ttrain-logloss:0.16185\tvalid-logloss:0.24555\n",
      "[1700]\ttrain-logloss:0.15717\tvalid-logloss:0.24491\n",
      "[1800]\ttrain-logloss:0.15279\tvalid-logloss:0.24456\n",
      "[1900]\ttrain-logloss:0.14849\tvalid-logloss:0.24408\n",
      "[2000]\ttrain-logloss:0.14423\tvalid-logloss:0.24360\n",
      "[2100]\ttrain-logloss:0.14018\tvalid-logloss:0.24324\n",
      "[2200]\ttrain-logloss:0.13626\tvalid-logloss:0.24282\n",
      "[2300]\ttrain-logloss:0.13249\tvalid-logloss:0.24266\n",
      "[2400]\ttrain-logloss:0.12880\tvalid-logloss:0.24235\n",
      "[2500]\ttrain-logloss:0.12517\tvalid-logloss:0.24200\n",
      "[2600]\ttrain-logloss:0.12177\tvalid-logloss:0.24179\n",
      "[2700]\ttrain-logloss:0.11853\tvalid-logloss:0.24170\n",
      "[2800]\ttrain-logloss:0.11529\tvalid-logloss:0.24147\n",
      "[2900]\ttrain-logloss:0.11199\tvalid-logloss:0.24129\n",
      "[3000]\ttrain-logloss:0.10897\tvalid-logloss:0.24119\n",
      "[3100]\ttrain-logloss:0.10604\tvalid-logloss:0.24107\n",
      "[3200]\ttrain-logloss:0.10313\tvalid-logloss:0.24095\n",
      "[3300]\ttrain-logloss:0.10029\tvalid-logloss:0.24087\n",
      "[3400]\ttrain-logloss:0.09763\tvalid-logloss:0.24084\n",
      "[3500]\ttrain-logloss:0.09505\tvalid-logloss:0.24079\n",
      "[3564]\ttrain-logloss:0.09336\tvalid-logloss:0.24078\n",
      "Kaggle Metric = 0.7876122361888591 \n",
      "\n",
      "#########################\n",
      "### Fold 2\n",
      "### Train size 229457 Valid size 229456\n",
      "### Train shape (458913, 1059)\n",
      "### Training with 100% fold data...\n",
      "#########################\n",
      "[0]\ttrain-logloss:0.66443\tvalid-logloss:0.66456\n",
      "[100]\ttrain-logloss:0.27071\tvalid-logloss:0.27737\n",
      "[200]\ttrain-logloss:0.25126\tvalid-logloss:0.26447\n",
      "[300]\ttrain-logloss:0.24031\tvalid-logloss:0.25993\n",
      "[400]\ttrain-logloss:0.23180\tvalid-logloss:0.25733\n",
      "[500]\ttrain-logloss:0.22438\tvalid-logloss:0.25553\n",
      "[600]\ttrain-logloss:0.21722\tvalid-logloss:0.25395\n",
      "[700]\ttrain-logloss:0.21079\tvalid-logloss:0.25274\n",
      "[800]\ttrain-logloss:0.20456\tvalid-logloss:0.25167\n",
      "[900]\ttrain-logloss:0.19820\tvalid-logloss:0.25048\n",
      "[1000]\ttrain-logloss:0.19265\tvalid-logloss:0.24959\n",
      "[1100]\ttrain-logloss:0.18709\tvalid-logloss:0.24875\n",
      "[1200]\ttrain-logloss:0.18175\tvalid-logloss:0.24792\n",
      "[1300]\ttrain-logloss:0.17653\tvalid-logloss:0.24720\n",
      "[1400]\ttrain-logloss:0.17116\tvalid-logloss:0.24642\n",
      "[1500]\ttrain-logloss:0.16635\tvalid-logloss:0.24573\n",
      "[1600]\ttrain-logloss:0.16160\tvalid-logloss:0.24513\n",
      "[1700]\ttrain-logloss:0.15707\tvalid-logloss:0.24465\n",
      "[1800]\ttrain-logloss:0.15246\tvalid-logloss:0.24408\n",
      "[1900]\ttrain-logloss:0.14817\tvalid-logloss:0.24360\n",
      "[2000]\ttrain-logloss:0.14386\tvalid-logloss:0.24307\n",
      "[2100]\ttrain-logloss:0.13972\tvalid-logloss:0.24274\n",
      "[2200]\ttrain-logloss:0.13583\tvalid-logloss:0.24236\n",
      "[2300]\ttrain-logloss:0.13212\tvalid-logloss:0.24200\n",
      "[2400]\ttrain-logloss:0.12844\tvalid-logloss:0.24166\n",
      "[2500]\ttrain-logloss:0.12473\tvalid-logloss:0.24135\n",
      "[2600]\ttrain-logloss:0.12114\tvalid-logloss:0.24112\n",
      "[2700]\ttrain-logloss:0.11782\tvalid-logloss:0.24102\n"
     ]
    }
   ],
   "source": [
    "importances = []\n",
    "permutation_importances = []\n",
    "oof = []\n",
    "# train = train_df.loc[:, ~train_df.columns.isin(categorical_columns)]#train.to_pandas() # free GPU memory\n",
    "\n",
    "\n",
    "TRAIN_SUBSAMPLE = 1.0\n",
    "# FEATURES = [i for i in train.columns[1:-1].values if i not in discarded_columns] #train.columns[1:-1]\n",
    "\n",
    "\n",
    "FEATURES = train.columns[1:-1]\n",
    "gc.collect()\n",
    "\n",
    "\n",
    "# skf = KFold(n_splits=Model_Parameters.FOLDS, shuffle=True, random_state=Model_Parameters.SEED)\n",
    "skf = StratifiedKFold(n_splits=Model_Parameters.FOLDS, shuffle=True, random_state=Model_Parameters.SEED)\n",
    "\n",
    "for fold,(train_idx, valid_idx) in enumerate(skf.split(\n",
    "            train, train.target )):\n",
    "    \n",
    "    # TRAIN WITH SUBSAMPLE OF TRAIN FOLD DATA\n",
    "    if TRAIN_SUBSAMPLE<1.0:\n",
    "        np.random.seed(SEED)\n",
    "        train_idx = np.random.choice(train_idx, \n",
    "                       int(len(train_idx)*TRAIN_SUBSAMPLE), replace=False)\n",
    "        np.random.seed(None)\n",
    "    \n",
    "    print('#'*25)\n",
    "    print('### Fold',fold+1)\n",
    "    print('### Train size',len(train_idx),'Valid size',len(valid_idx))\n",
    "    print('### Train shape',train.loc[:, FEATURES].shape)\n",
    "    print(f'### Training with {int(TRAIN_SUBSAMPLE*100)}% fold data...')\n",
    "    print('#'*25)\n",
    "    \n",
    "    # TRAIN, VALID, TEST FOR FOLD K\n",
    "    # Xy_train = IterLoadForDMatrix(train.loc[train_idx], FEATURES, 'target')\n",
    "    X_valid = train.loc[valid_idx, FEATURES]\n",
    "    y_valid = train.loc[valid_idx, 'target']\n",
    "    \n",
    "    dtrain = xgb.DMatrix(data=train.loc[train_idx, FEATURES], label=train.loc[train_idx, 'target'])\n",
    "    \n",
    "    # dtrain = xgb.DeviceQuantileDMatrix(Xy_train, max_bin=256)\n",
    "    dvalid = xgb.DMatrix(data=X_valid, label=y_valid)\n",
    "    \n",
    "    # TRAIN MODEL FOLD K\n",
    "    # model = xgb.XGBClassifier(n_estimators=10, max_depth=2)\n",
    "    # model.fit(train.loc[train_idx, FEATURES], train.loc[train_idx, 'target'])\n",
    "    model = xgb.train(xgb_parms, \n",
    "                dtrain=dtrain,\n",
    "                evals=[(dtrain,'train'),(dvalid,'valid')],\n",
    "                num_boost_round=9999,\n",
    "                early_stopping_rounds=100,\n",
    "                verbose_eval=100) \n",
    "    # print(type(model))\n",
    "    model.save_model(f'XGB_v{Model_Parameters.VER}_fold{fold}.xgb')\n",
    "    \n",
    "    # GET FEATURE IMPORTANCE FOR FOLD K\n",
    "    dd = model.get_score(importance_type='weight')\n",
    "    df = pd.DataFrame({'feature':dd.keys(),f'importance_{fold}':dd.values()})\n",
    "    importances.append(df)\n",
    "    # permutation_importances.append(permutation_importance(model, train.iloc[:10000,1:-1], train.iloc[:10000,-1], n_repeats=2, n_jobs=-1))\n",
    "            \n",
    "    # INFER OOF FOLD K\n",
    "    oof_preds = model.predict(dvalid)\n",
    "    acc = amex_metric_mod(y_valid.values, oof_preds)\n",
    "    print('Kaggle Metric =',acc,'\\n')\n",
    "    \n",
    "    # SAVE OOF\n",
    "    df = train.loc[valid_idx, ['customer_ID','target'] ].copy()\n",
    "    df['oof_pred'] = oof_preds\n",
    "    oof.append( df )\n",
    "    \n",
    "    del dtrain,dd, df#  Xy_train\n",
    "    del X_valid, y_valid, dvalid, model\n",
    "    _ = gc.collect()\n",
    "    \n",
    "print('#'*25)\n",
    "oof = pd.concat(oof,axis=0,ignore_index=True).set_index('customer_ID')\n",
    "acc = amex_metric_mod(oof.target.values, oof.oof_pred.values)\n",
    "print('OVERALL CV Kaggle Metric =',acc)"
   ]
  },
  {
   "cell_type": "code",
   "execution_count": null,
   "id": "3296b72f-c539-4eaa-8171-22554d69b0d8",
   "metadata": {},
   "outputs": [],
   "source": [
    "del train\n",
    "_ = gc.collect()"
   ]
  },
  {
   "cell_type": "code",
   "execution_count": null,
   "id": "5cd2dfe7-dc61-496e-8d42-5fe7cc224b37",
   "metadata": {},
   "outputs": [],
   "source": [
    "oof_xgb = train_df.drop_duplicates(subset=['customer_ID'])\n",
    "\n",
    "oof_xgb = oof_xgb.loc[:,'customer_ID']\n",
    "oof_xgb = oof_xgb.to_frame()\n",
    "\n",
    "oof_xgb = oof_xgb.merge(oof, left_on='customer_ID', right_on='customer_ID')"
   ]
  },
  {
   "cell_type": "code",
   "execution_count": null,
   "id": "9fb669ff-4714-41ef-a941-ee59f4f7b161",
   "metadata": {},
   "outputs": [],
   "source": [
    "oof_xgb.to_csv(f'oof_xgb_v{Model_Parameters.VER}.csv',index=False)\n",
    "oof_xgb.head()"
   ]
  },
  {
   "cell_type": "code",
   "execution_count": null,
   "id": "07890956-069f-4b1e-9a08-87a31e282f85",
   "metadata": {},
   "outputs": [],
   "source": [
    "# PLOT OOF PREDICTIONS\n",
    "plt.hist(oof_xgb.oof_pred.values, bins=100)\n",
    "plt.title('OOF Predictions')\n",
    "plt.show()"
   ]
  },
  {
   "cell_type": "code",
   "execution_count": null,
   "id": "0c3250b4-99dc-47f1-8cb2-794009897953",
   "metadata": {},
   "outputs": [],
   "source": [
    "del oof_xgb, oof\n",
    "_ = gc.collect()"
   ]
  },
  {
   "cell_type": "code",
   "execution_count": null,
   "id": "09478233-49d1-4bc8-b898-5126c78c621b",
   "metadata": {},
   "outputs": [],
   "source": [
    "importances_2 = []\n",
    "for i in range(len(importances)):\n",
    "    df = pd.DataFrame({'feature': list(importances[i].iloc[0,0]), 'importance': list(importances[i].iloc[0,1])})\n",
    "    importances_2.append(df)"
   ]
  },
  {
   "cell_type": "code",
   "execution_count": null,
   "id": "c022583e-7944-4b70-b219-cf5151f49b02",
   "metadata": {},
   "outputs": [],
   "source": [
    "df = importances_2[0].copy()\n",
    "for k in range(1,Model_Parameters.FOLDS): df = df.merge(importances_2[k], on='feature', how='left')\n",
    "df['importance'] = df.iloc[:,1:].mean(axis=1)\n",
    "df = df.sort_values('importance',ascending=False)\n",
    "df.to_csv(f'xgb_feature_importance_v{Model_Parameters.VER}.csv',index=False)"
   ]
  },
  {
   "cell_type": "code",
   "execution_count": null,
   "id": "6a6e9d61-27e0-4a14-8251-d0661abd46f9",
   "metadata": {},
   "outputs": [],
   "source": [
    "NUM_FEATURES = 20\n",
    "plt.figure(figsize=(10,5*NUM_FEATURES//10))\n",
    "plt.barh(np.arange(NUM_FEATURES,0,-1), df.importance.values[:NUM_FEATURES])\n",
    "plt.yticks(np.arange(NUM_FEATURES,0,-1), df.feature.values[:NUM_FEATURES])\n",
    "plt.title(f'XGB Feature Importance - Top {NUM_FEATURES}')\n",
    "plt.show()"
   ]
  },
  {
   "cell_type": "code",
   "execution_count": null,
   "id": "1be516fd-8fd0-4897-a9a0-91486e8b263a",
   "metadata": {},
   "outputs": [],
   "source": [
    "test_df = pd.read_parquet('Processed_Data/test.parquet')"
   ]
  },
  {
   "cell_type": "code",
   "execution_count": null,
   "id": "6fc297c8-8229-4133-8b4e-3c1c3ce6e3d4",
   "metadata": {},
   "outputs": [],
   "source": [
    "if Train_Parameters.compute_test_df:\n",
    "    test = test_df.loc[:, ~test_df.columns.isin(Model_Parameters.ignored_columns)]\n",
    "    test = agglomeration_function(test, num_features=num_features, cat_features=cat_features, ignore=None, apply_pca=False)\n",
    "    customer_ID_cols = test_df.groupby('customer_ID')['customer_ID'].tail(1).reset_index(drop=True)\n",
    "    test = pd.concat([customer_ID_cols, test], axis=1)\n",
    "    test.to_csv('Processed_Data/test_FE', index=False)\n",
    "else:\n",
    "    test = pd.read_csv('Processed_Data/test_FE')"
   ]
  },
  {
   "cell_type": "code",
   "execution_count": null,
   "id": "a21a1d10-f329-4ce2-a10f-414490348000",
   "metadata": {},
   "outputs": [],
   "source": [
    "# test_df = test_df.groupby('customer_ID').tail(1).reset_index(drop=True)"
   ]
  },
  {
   "cell_type": "code",
   "execution_count": null,
   "id": "0dbfc852-e366-4e55-84f8-3f88c4f3e6b5",
   "metadata": {},
   "outputs": [],
   "source": [
    "model = xgb.Booster()\n",
    "model.load_model(f'XGB_v{Model_Parameters.VER}_fold0.xgb')"
   ]
  },
  {
   "cell_type": "code",
   "execution_count": null,
   "id": "d6912c28-3981-415d-adcd-e2f093978eeb",
   "metadata": {},
   "outputs": [],
   "source": [
    "test.iloc[:, 1:]"
   ]
  },
  {
   "cell_type": "code",
   "execution_count": null,
   "id": "2b692fd9-031d-4c0c-b4bd-a98fd873dff3",
   "metadata": {},
   "outputs": [],
   "source": [
    "y_test = xgb.DMatrix(data=test.iloc[:, 1:])\n",
    "\n",
    "# y_test = xgb.DMatrix(data=test.loc[:, FEATURES])\n"
   ]
  },
  {
   "cell_type": "code",
   "execution_count": null,
   "id": "3c591e18-db6e-46da-842f-395a1d7eeda4",
   "metadata": {},
   "outputs": [],
   "source": [
    "y_pred = model.predict(y_test)"
   ]
  },
  {
   "cell_type": "code",
   "execution_count": null,
   "id": "839b68c6-a283-4b42-a07e-354586bafed0",
   "metadata": {},
   "outputs": [],
   "source": [
    "len(y_pred)"
   ]
  },
  {
   "cell_type": "code",
   "execution_count": null,
   "id": "8755256c-cb23-456c-acce-7e17f8f44eac",
   "metadata": {},
   "outputs": [],
   "source": [
    "sample_df = pd.read_csv('amex-default-prediction/sample_submission.csv')\n",
    "submission = pd.DataFrame({'customer_ID': test['customer_ID'], 'target': y_pred})\n",
    "# submission = submission.groupby(by='customer_ID').mean()\n",
    "print(sample_df.shape, submission.shape)\n",
    "sample_df['prediction'] = submission.target.values"
   ]
  },
  {
   "cell_type": "code",
   "execution_count": null,
   "id": "638c0390-fc09-4f06-905b-7c920f64ad15",
   "metadata": {},
   "outputs": [],
   "source": [
    "sample_df.to_csv(f'output_XGBoost_ver{Model_Parameters.VER}.csv', index=False)"
   ]
  },
  {
   "cell_type": "code",
   "execution_count": null,
   "id": "d9fa7e10-d1a8-404c-8948-d709489ef3e3",
   "metadata": {},
   "outputs": [],
   "source": []
  },
  {
   "cell_type": "code",
   "execution_count": null,
   "id": "d1f5f043-343d-4250-84ca-9c5bf8f058cd",
   "metadata": {},
   "outputs": [],
   "source": [
    "model_sklearn_api = xgb.XGBClassifier()"
   ]
  },
  {
   "cell_type": "code",
   "execution_count": null,
   "id": "b9262443-0925-43b9-869d-6519772998f9",
   "metadata": {},
   "outputs": [],
   "source": [
    "model_sklearn_api.load_model(f'XGB_v{Model_Parameters.VER}_fold{fold}.xgb')"
   ]
  },
  {
   "cell_type": "code",
   "execution_count": null,
   "id": "abad7e00-40b1-4c50-913a-8d884647964a",
   "metadata": {},
   "outputs": [],
   "source": [
    "perm_importance = permutation_importance(model_sklearn_api, train.iloc[:10000,1:-1], train.iloc[:10000,-1], n_repeats=1, n_jobs=-1)"
   ]
  },
  {
   "cell_type": "code",
   "execution_count": null,
   "id": "9b7bfdb4-57c1-466d-bf55-2b3206fe8bc3",
   "metadata": {},
   "outputs": [],
   "source": [
    "perm_importance"
   ]
  },
  {
   "cell_type": "code",
   "execution_count": null,
   "id": "202014c3-b141-4855-9f11-8c07d7f2fd1b",
   "metadata": {},
   "outputs": [],
   "source": [
    "from xgboost import plot_tree\n",
    "import matplotlib.pyplot as plt\n",
    "\n",
    "plot_tree(model, num_trees=1)\n",
    "fig = plt.gcf()\n",
    "fig.set_size_inches(300, 150)\n",
    "plt.savefig('pic.jpg', dpi='figure')"
   ]
  },
  {
   "cell_type": "code",
   "execution_count": null,
   "id": "f6488e3b-a0d0-491c-b414-0b52dc2057a6",
   "metadata": {},
   "outputs": [],
   "source": [
    "oof_xgb = pd.read_csv(f'oof_xgb_v{Model_Parameters.VER}.csv')"
   ]
  },
  {
   "cell_type": "code",
   "execution_count": null,
   "id": "45ee09eb-c077-4bf9-bff9-68dcecb2a1d2",
   "metadata": {},
   "outputs": [],
   "source": [
    "train"
   ]
  },
  {
   "cell_type": "code",
   "execution_count": null,
   "id": "daf14291-48bb-48db-a549-ac1786513b68",
   "metadata": {},
   "outputs": [],
   "source": [
    "oof_xgb.head()"
   ]
  },
  {
   "cell_type": "code",
   "execution_count": null,
   "id": "dc22aa7a-2cc7-437b-ad0d-ad6c904ff9f2",
   "metadata": {},
   "outputs": [],
   "source": [
    "plt.scatter(oof_xgb.target[::1000], oof_xgb.oof_pred[::1000])"
   ]
  },
  {
   "cell_type": "code",
   "execution_count": null,
   "id": "129bf8ab-27a0-4acd-b1fb-8fac55ea53b1",
   "metadata": {},
   "outputs": [],
   "source": [
    "# from sklearn import metrics\n",
    "# metrics.plot_confusion_matrix(model_sklearn_api, train.iloc[:10000, 1:-1], train.iloc[:10000, -1]) \n",
    "# plt.show()"
   ]
  },
  {
   "cell_type": "code",
   "execution_count": null,
   "id": "1fb83475-2145-4fb5-aa79-f76f9555502c",
   "metadata": {},
   "outputs": [],
   "source": []
  }
 ],
 "metadata": {
  "kernelspec": {
   "display_name": "TensorFlow-GPU",
   "language": "python",
   "name": "tf-gpu"
  },
  "language_info": {
   "codemirror_mode": {
    "name": "ipython",
    "version": 3
   },
   "file_extension": ".py",
   "mimetype": "text/x-python",
   "name": "python",
   "nbconvert_exporter": "python",
   "pygments_lexer": "ipython3",
   "version": "3.7.4"
  }
 },
 "nbformat": 4,
 "nbformat_minor": 5
}
