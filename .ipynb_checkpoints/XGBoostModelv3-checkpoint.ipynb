{
 "cells": [
  {
   "cell_type": "code",
   "execution_count": 1,
   "id": "b0dfbeeb-12e3-48bc-874c-0a8e4c4dfbe6",
   "metadata": {},
   "outputs": [],
   "source": [
    "import pandas as pd\n",
    "import numpy as np\n",
    "import gc\n",
    "# import cupy\n",
    "import xgboost as xgb\n",
    "import matplotlib.pyplot as plt\n",
    "from sklearn.model_selection import train_test_split\n",
    "from sklearn.model_selection import KFold\n",
    "from sklearn.model_selection import StratifiedKFold\n",
    "from sklearn.inspection import permutation_importance\n",
    "from sklearn.metrics import plot_confusion_matrix\n",
    "\n",
    "from DataPipeline import agglomeration_function\n",
    "from DataPipeline import null_filtering\n",
    "\n",
    "import optuna\n",
    "\n",
    "from EvaluationMetrics import amex_metric_mod\n",
    "from EvaluationMetrics import top_four_percent\n",
    "from EvaluationMetrics import gini_metric"
   ]
  },
  {
   "cell_type": "code",
   "execution_count": 2,
   "id": "d4139ed1-e8b3-4719-92d5-62242ca1c83f",
   "metadata": {},
   "outputs": [],
   "source": [
    "%load_ext autoreload\n",
    "%autoreload 2"
   ]
  },
  {
   "cell_type": "code",
   "execution_count": 3,
   "id": "bdde4df4-794c-407c-9a61-bed016bb11f9",
   "metadata": {},
   "outputs": [],
   "source": [
    "train_df = pd.read_parquet('Processed_Data/cleaned_train.parquet')\n",
    "# train_df = train_df.iloc[:5000,:]"
   ]
  },
  {
   "cell_type": "code",
   "execution_count": 4,
   "id": "14b7e542-8515-4327-a73e-e084767feb29",
   "metadata": {},
   "outputs": [],
   "source": [
    "class Train_Parameters:\n",
    "    compute_train_df = False # if True, we will compute a new train_df, otherwise we read from drive\n",
    "    compute_test_df = False # if True, we will compute a new test_df, otherwise we read from drive\n",
    "    fast_training = True # if True, we train on only 10% of the rows\n",
    "    train_hard_samples = False\n",
    "\n",
    "    if fast_training:\n",
    "        training_rounds = 9999\n",
    "    else:\n",
    "        training_rounds = 999\n",
    "\n",
    "null_threshold = 0.95\n",
    "null_columns = null_filtering(train_df.iloc[:, 1:-1], null_threshold=null_threshold)\n",
    "    \n",
    "# Key parameters\n",
    "class Model_Parameters:\n",
    "    irrelevant_columns = [\"customer_ID\", \"target\"]\n",
    "    other_columns = ['S_2'] #['S_2']\n",
    "    categorical_columns = [\"D_63\", \n",
    "                           \"D_64\", \"D_66\", \n",
    "                           \"D_68\", \"B_30\", \n",
    "                           \"B_38\", \"D_114\", \n",
    "                           \"D_116\", \"D_117\", \n",
    "                           \"D_120\", \"D_126\"]  \n",
    "    train_test_delta_columns = [] #['R_1', 'D_59', 'S_11', 'B_29', 'S_9'] # columns with different distributions between train and test\n",
    "    \n",
    "    ignored_columns = train_test_delta_columns + list(null_columns.values) + other_columns #+ categorical_columns \n",
    "    valid_size = 0.2\n",
    "    SEED = 10\n",
    "    FOLDS = 2 #5\n",
    "    VER = 2 #\"HARD_Samples_1\" 'hard_indicator_1'\n",
    "    \n",
    "num_features = [col for col in train_df.columns if ((col not in Model_Parameters.ignored_columns) \n",
    "                                                    and (col not in Model_Parameters.categorical_columns) \n",
    "                                                    and (col not in Model_Parameters.irrelevant_columns))]\n",
    "cat_features = [col for col in train_df.columns if col in Model_Parameters.categorical_columns]#"
   ]
  },
  {
   "cell_type": "code",
   "execution_count": 5,
   "id": "1c3c557e-2968-4f80-8617-612252fa4d05",
   "metadata": {},
   "outputs": [],
   "source": [
    "xgb_parms = { \n",
    "    'max_depth':6, #5, \n",
    "    'learning_rate':0.013, #0.05, \n",
    "    'subsample':0.8,\n",
    "    'colsample_bytree':0.6, \n",
    "    'eval_metric':'logloss',\n",
    "    'objective':'binary:logistic',\n",
    "    'tree_method':'gpu_hist',\n",
    "    'predictor':'gpu_predictor',\n",
    "    'random_state':Model_Parameters.SEED,\n",
    "    'scale_pos_weight':10 #3 #use 10 when doing hard samples mining\n",
    "}"
   ]
  },
  {
   "cell_type": "code",
   "execution_count": 18,
   "id": "d704ac69-2d21-494d-97bd-7b55d2d17224",
   "metadata": {},
   "outputs": [],
   "source": [
    "# Create Train_df\n",
    "if Train_Parameters.compute_train_df:\n",
    "    train = train_df.loc[:, ~train_df.columns.isin(Model_Parameters.ignored_columns)]\n",
    "\n",
    "    train = agglomeration_function(train, num_features=num_features, cat_features=cat_features, apply_pca=False)\n",
    "    customer_ID_cols = train_df.groupby('customer_ID')['customer_ID'].tail(1).reset_index(drop=True)\n",
    "\n",
    "    train = pd.concat([customer_ID_cols, train], axis=1)\n",
    "    train.to_csv('Processed_Data/train_df_cleaned.csv', index=False)\n",
    "    if Train_Parameters.fast_training:\n",
    "        train = train.sample(frac=0.1)\n",
    "\n",
    "else:\n",
    "    if Train_Parameters.fast_training:\n",
    "        train = pd.read_csv('Processed_Data/train_df_cleaned.csv', nrows=10000)\n",
    "        train = train.sample(frac=0.1, ignore_index=True)\n",
    "    else:\n",
    "        train = pd.read_csv('Processed_Data/train_df_cleaned.csv')"
   ]
  },
  {
   "cell_type": "code",
   "execution_count": 20,
   "id": "85767690-50c5-4604-abc7-56770024fd3c",
   "metadata": {},
   "outputs": [
    {
     "ename": "NameError",
     "evalue": "name 'train_head' is not defined",
     "output_type": "error",
     "traceback": [
      "\u001b[0;31m---------------------------------------------------------------------------\u001b[0m",
      "\u001b[0;31mNameError\u001b[0m                                 Traceback (most recent call last)",
      "\u001b[0;32m<ipython-input-20-900342692232>\u001b[0m in \u001b[0;36m<module>\u001b[0;34m\u001b[0m\n\u001b[0;32m----> 1\u001b[0;31m \u001b[0mtrain_head\u001b[0m\u001b[0;34m(\u001b[0m\u001b[0;34m)\u001b[0m\u001b[0;34m\u001b[0m\u001b[0;34m\u001b[0m\u001b[0m\n\u001b[0m",
      "\u001b[0;31mNameError\u001b[0m: name 'train_head' is not defined"
     ]
    }
   ],
   "source": [
    "train_head()"
   ]
  },
  {
   "cell_type": "code",
   "execution_count": null,
   "id": "925ee376-9785-4641-b156-4b68c929194a",
   "metadata": {},
   "outputs": [],
   "source": [
    "# OOF Analysis\n",
    "\n",
    "oof_xgb = pd.read_csv(f'oof_predictions/oof_xgb_v{Model_Parameters.VER}.csv')\n",
    "# oof_xgb[oof_xgb.target==1].hist()\n",
    "# oof_xgb[oof_xgb.target==0].hist()\n",
    "print('top 4% ', top_four_percent(oof_xgb.target.values, oof_xgb.oof_pred.values), '/n',\n",
    "'gini metric ', gini_metric(oof_xgb.target.values, oof_xgb.oof_pred.values))"
   ]
  },
  {
   "cell_type": "code",
   "execution_count": null,
   "id": "2dbdae2a-46e3-4df8-948d-aa6b9f632f30",
   "metadata": {},
   "outputs": [],
   "source": [
    "# Create hard_df indicator\n",
    "##############################\n",
    "if Train_Parameters.train_hard_samples:\n",
    "\n",
    "    hard_df = oof_xgb[\n",
    "        ((oof_xgb.target==1).values & (oof_xgb.oof_pred<=0.5).values) | \n",
    "        ((oof_xgb.target==0).values & (oof_xgb.oof_pred>=0.5).values)  \n",
    "    ] \n",
    "    hard_df.head()\n",
    "    hard_df['hard_indicator'] = 1\n",
    "\n",
    "    train = train.merge(hard_df[[\"customer_ID\",\"hard_indicator\"]], how='left', left_on='customer_ID', right_on='customer_ID')\n",
    "    train.hard_indicator.fillna(0, inplace=True)\n",
    "\n",
    "    train.drop(columns='target', inplace=True)\n",
    "    train.head()"
   ]
  },
  {
   "cell_type": "code",
   "execution_count": 10,
   "id": "7213f7fb-6f5c-476e-b4aa-308e3197b84f",
   "metadata": {},
   "outputs": [],
   "source": [
    "#####\n",
    "# Main training routine\n",
    "#####\n",
    "\n",
    "def train_model(X_valid, Y_valid, X_train, Y_train, params=None, num_rounds=1000, existing_model=None):\n",
    "    dtrain = xgb.DMatrix(data=X_train, label=Y_train, enable_categorical=True)\n",
    "    dvalid = xgb.DMatrix(data=X_valid, label=Y_valid, enable_categorical=True)\n",
    "\n",
    "    if existing_model == None:\n",
    "        model = xgb.train(params, \n",
    "                dtrain=dtrain,\n",
    "                evals=[(dtrain,'train'),(dvalid,'valid')],\n",
    "                num_boost_round=num_rounds,\n",
    "                early_stopping_rounds=100,\n",
    "                verbose_eval=100)\n",
    "    else:\n",
    "        model = xgb.train(params, \n",
    "                dtrain=dtrain,\n",
    "                evals=[(dtrain,'train'),(dvalid,'valid')],\n",
    "                num_boost_round=num_rounds,\n",
    "                early_stopping_rounds=100,\n",
    "                verbose_eval=100,\n",
    "                xgb_model=existing_model) \n",
    "\n",
    "    oof_pred = model.predict(dvalid)\n",
    "        \n",
    "    return model, oof_pred"
   ]
  },
  {
   "cell_type": "code",
   "execution_count": 16,
   "id": "5e00cd67-0c05-437b-a517-886a1c51b05d",
   "metadata": {},
   "outputs": [
    {
     "name": "stdout",
     "output_type": "stream",
     "text": [
      "#########################\n",
      "### Fold 1\n",
      "### Train size 500 Valid size 500\n",
      "### Train shape (1000, 1572)\n",
      "### Training with 100% fold data...\n",
      "#########################\n",
      "[0]\ttrain-logloss:0.68399\tvalid-logloss:0.68564\n",
      "[100]\ttrain-logloss:0.26388\tvalid-logloss:0.38646\n",
      "[200]\ttrain-logloss:0.12855\tvalid-logloss:0.32977\n",
      "[300]\ttrain-logloss:0.06397\tvalid-logloss:0.31417\n",
      "[400]\ttrain-logloss:0.03682\tvalid-logloss:0.30890\n",
      "[500]\ttrain-logloss:0.02417\tvalid-logloss:0.30881\n",
      "[532]\ttrain-logloss:0.02173\tvalid-logloss:0.31053\n",
      "Kaggle Metric = 0.7427039288654627 \n",
      "\n",
      "#########################\n",
      "### Fold 2\n",
      "### Train size 500 Valid size 500\n",
      "### Train shape (1000, 1572)\n",
      "### Training with 100% fold data...\n",
      "#########################\n",
      "[0]\ttrain-logloss:0.68487\tvalid-logloss:0.68600\n",
      "[100]\ttrain-logloss:0.27838\tvalid-logloss:0.38867\n",
      "[200]\ttrain-logloss:0.12733\tvalid-logloss:0.32370\n",
      "[300]\ttrain-logloss:0.06269\tvalid-logloss:0.30265\n",
      "[400]\ttrain-logloss:0.03596\tvalid-logloss:0.30146\n",
      "[500]\ttrain-logloss:0.02341\tvalid-logloss:0.30365\n",
      "[518]\ttrain-logloss:0.02197\tvalid-logloss:0.30410\n",
      "Kaggle Metric = 0.7086500171624431 \n",
      "\n",
      "#########################\n",
      "OVERALL CV Kaggle Metric = 0.7282573065834024\n"
     ]
    }
   ],
   "source": [
    "##############################\n",
    "\n",
    "importances = []\n",
    "permutation_importances = []\n",
    "oof = []\n",
    "\n",
    "TRAIN_SUBSAMPLE = 1.0\n",
    "FEATURES = train.columns[1:-1]\n",
    "gc.collect()\n",
    "\n",
    "\n",
    "skf = StratifiedKFold(n_splits=Model_Parameters.FOLDS, shuffle=True, random_state=Model_Parameters.SEED)\n",
    "\n",
    "if Train_Parameters.train_hard_samples:\n",
    "    target = 'hard_indicator'\n",
    "else:        \n",
    "    target = 'target'\n",
    "\n",
    "\n",
    "for fold,(train_idx, valid_idx) in enumerate(skf.split(\n",
    "            train, train[f'{target}'])):\n",
    "\n",
    "    # TRAIN WITH SUBSAMPLE OF TRAIN FOLD DATA\n",
    "    if TRAIN_SUBSAMPLE<1.0:\n",
    "        np.random.seed(SEED)\n",
    "        train_idx = np.random.choice(train_idx, \n",
    "                       int(len(train_idx)*TRAIN_SUBSAMPLE), replace=False)\n",
    "        np.random.seed(None)\n",
    "\n",
    "    print('#'*25)\n",
    "    print('### Fold',fold+1)\n",
    "    print('### Train size',len(train_idx),'Valid size',len(valid_idx))\n",
    "    print('### Train shape',train.loc[:, FEATURES].shape)\n",
    "    print(f'### Training with {int(TRAIN_SUBSAMPLE*100)}% fold data...')\n",
    "    print('#'*25)\n",
    "\n",
    "    X_valid = train.loc[valid_idx, FEATURES]\n",
    "    X_train = train.loc[train_idx, FEATURES]\n",
    "    Y_valid = train.loc[valid_idx, f'{target}']\n",
    "    Y_train = train.loc[train_idx, f'{target}']\n",
    "\n",
    "    model, oof_preds = train_model(X_valid, Y_valid, X_train, Y_train, params=xgb_parms, num_rounds=Train_Parameters.training_rounds)    \n",
    "    # model.save_model(f'Model_Weights/XGB_v{Model_Parameters.VER}_fold{fold}.json')\n",
    "\n",
    "    # GET FEATURE IMPORTANCE FOR FOLD K\n",
    "    dd = model.get_score(importance_type='weight')\n",
    "    df = pd.DataFrame({'feature':dd.keys(),f'importance_{fold}':dd.values()})\n",
    "    importances.append(df)\n",
    "    # permutation_importances.append(permutation_importance(model, train.iloc[:10000,1:-1], train.iloc[:10000,-1], n_repeats=2, n_jobs=-1))\n",
    "\n",
    "    # INFER OOF FOLD K\n",
    "    acc = amex_metric_mod(Y_valid.values, oof_preds)\n",
    "    print('Kaggle Metric =',acc,'\\n')\n",
    "\n",
    "    # SAVE OOF\n",
    "    df = train.loc[valid_idx, ['customer_ID',f'{target}'] ].copy()\n",
    "    df['oof_pred'] = oof_preds\n",
    "    oof.append( df )\n",
    "\n",
    "    del X_valid, Y_valid, X_train, Y_train, model\n",
    "    _ = gc.collect()\n",
    "\n",
    "print('#'*25)\n",
    "oof = pd.concat(oof,axis=0,ignore_index=True).set_index('customer_ID')\n",
    "acc = amex_metric_mod(oof[f'{target}'], oof.oof_pred.values)\n",
    "print('OVERALL CV Kaggle Metric =',acc)\n",
    "del train\n",
    "_ = gc.collect()"
   ]
  },
  {
   "cell_type": "code",
   "execution_count": 17,
   "id": "fcc7f065-0ec6-4b89-97e8-8cf23d12339c",
   "metadata": {},
   "outputs": [
    {
     "ename": "NameError",
     "evalue": "name 'train' is not defined",
     "output_type": "error",
     "traceback": [
      "\u001b[0;31m---------------------------------------------------------------------------\u001b[0m",
      "\u001b[0;31mNameError\u001b[0m                                 Traceback (most recent call last)",
      "\u001b[0;32m<ipython-input-17-3536571a9bc3>\u001b[0m in \u001b[0;36m<module>\u001b[0;34m\u001b[0m\n\u001b[0;32m----> 1\u001b[0;31m \u001b[0mtrain\u001b[0m\u001b[0;34m\u001b[0m\u001b[0;34m\u001b[0m\u001b[0m\n\u001b[0m",
      "\u001b[0;31mNameError\u001b[0m: name 'train' is not defined"
     ]
    }
   ],
   "source": []
  },
  {
   "cell_type": "code",
   "execution_count": 15,
   "id": "0bd42847-9f47-494f-923a-2979889ecc77",
   "metadata": {},
   "outputs": [
    {
     "data": {
      "text/plain": [
       "0.7282573065834024"
      ]
     },
     "execution_count": 15,
     "metadata": {},
     "output_type": "execute_result"
    }
   ],
   "source": [
    "amex_metric_mod(oof[f'{target}'], oof.oof_pred.values)"
   ]
  },
  {
   "cell_type": "code",
   "execution_count": 20,
   "id": "da17a75f-74ac-4056-b5fb-0f3b86b436cc",
   "metadata": {},
   "outputs": [],
   "source": [
    "# Optuna section\n",
    "##################\n",
    "\n",
    "def objective(trial):\n",
    "    param = {\n",
    "        # 'max_depth':5, \n",
    "        'max_depth': trial.suggest_int(\n",
    "            'max_depth',3, 10), \n",
    "        'learning_rate': trial.suggest_float(\n",
    "            'learning_rate', 0.001, 0.05, step=0.001), \n",
    "        'subsample':0.8,\n",
    "        'colsample_bytree':0.6, \n",
    "        'eval_metric':'logloss',\n",
    "        'objective':'binary:logistic',\n",
    "        'tree_method':'gpu_hist',\n",
    "        'predictor':'gpu_predictor',\n",
    "        'random_state':Model_Parameters.SEED,\n",
    "        'scaled_pos_weight': trial.suggest_int(\n",
    "            'scaled_pos_weight', 1, 5, 1),\n",
    "    }\n",
    "    \n",
    "    FEATURES = train.columns[1:-1]\n",
    "\n",
    "    X_valid = train.loc[len(train)*0.8:, FEATURES]\n",
    "    y_valid = train.loc[len(train)*0.8:, 'target']\n",
    "\n",
    "    dtrain = xgb.DMatrix(data=train.loc[:len(train)*0.8, FEATURES], label=train.loc[:len(train)*0.8, 'target'])\n",
    "    dvalid = xgb.DMatrix(data=X_valid, label=y_valid)\n",
    "    \n",
    "    model = xgb.train(param, \n",
    "                dtrain=dtrain,\n",
    "                evals=[(dtrain,'train'),(dvalid,'valid')],\n",
    "                num_boost_round=9999,\n",
    "                early_stopping_rounds=100,\n",
    "                verbose_eval=100) \n",
    "\n",
    "    oof_preds = model.predict(dvalid)\n",
    "    acc = amex_metric_mod(y_valid.values, oof_preds)\n",
    "    del model\n",
    "    return acc\n",
    "\n",
    "# %%time\n",
    "# study = optuna.create_study(direction='maximize')\n",
    "# study.optimize(objective, n_trials= 5)"
   ]
  },
  {
   "cell_type": "code",
   "execution_count": 19,
   "id": "5cd2dfe7-dc61-496e-8d42-5fe7cc224b37",
   "metadata": {},
   "outputs": [
    {
     "data": {
      "text/html": [
       "<div>\n",
       "<style scoped>\n",
       "    .dataframe tbody tr th:only-of-type {\n",
       "        vertical-align: middle;\n",
       "    }\n",
       "\n",
       "    .dataframe tbody tr th {\n",
       "        vertical-align: top;\n",
       "    }\n",
       "\n",
       "    .dataframe thead th {\n",
       "        text-align: right;\n",
       "    }\n",
       "</style>\n",
       "<table border=\"1\" class=\"dataframe\">\n",
       "  <thead>\n",
       "    <tr style=\"text-align: right;\">\n",
       "      <th></th>\n",
       "      <th>customer_ID</th>\n",
       "      <th>target</th>\n",
       "      <th>oof_pred</th>\n",
       "    </tr>\n",
       "  </thead>\n",
       "  <tbody>\n",
       "    <tr>\n",
       "      <th>0</th>\n",
       "      <td>0000099d6bd597052cdcda90ffabf56573fe9d7c79be5f...</td>\n",
       "      <td>0</td>\n",
       "      <td>0.000267</td>\n",
       "    </tr>\n",
       "    <tr>\n",
       "      <th>1</th>\n",
       "      <td>00000fd6641609c6ece5454664794f0340ad84dddce9a2...</td>\n",
       "      <td>0</td>\n",
       "      <td>0.000857</td>\n",
       "    </tr>\n",
       "    <tr>\n",
       "      <th>2</th>\n",
       "      <td>00001b22f846c82c51f6e3958ccd81970162bae8b007e8...</td>\n",
       "      <td>0</td>\n",
       "      <td>0.001721</td>\n",
       "    </tr>\n",
       "    <tr>\n",
       "      <th>3</th>\n",
       "      <td>000041bdba6ecadd89a52d11886e8eaaec9325906c9723...</td>\n",
       "      <td>0</td>\n",
       "      <td>0.004876</td>\n",
       "    </tr>\n",
       "    <tr>\n",
       "      <th>4</th>\n",
       "      <td>00007889e4fcd2614b6cbe7f8f3d2e5c728eca32d9eb8a...</td>\n",
       "      <td>0</td>\n",
       "      <td>0.001395</td>\n",
       "    </tr>\n",
       "  </tbody>\n",
       "</table>\n",
       "</div>"
      ],
      "text/plain": [
       "                                         customer_ID  target  oof_pred\n",
       "0  0000099d6bd597052cdcda90ffabf56573fe9d7c79be5f...       0  0.000267\n",
       "1  00000fd6641609c6ece5454664794f0340ad84dddce9a2...       0  0.000857\n",
       "2  00001b22f846c82c51f6e3958ccd81970162bae8b007e8...       0  0.001721\n",
       "3  000041bdba6ecadd89a52d11886e8eaaec9325906c9723...       0  0.004876\n",
       "4  00007889e4fcd2614b6cbe7f8f3d2e5c728eca32d9eb8a...       0  0.001395"
      ]
     },
     "execution_count": 19,
     "metadata": {},
     "output_type": "execute_result"
    }
   ],
   "source": [
    "# save oof predictions\n",
    "oof_xgb = train_df.drop_duplicates(subset=['customer_ID'])\n",
    "\n",
    "oof_xgb = oof_xgb.loc[:,'customer_ID']\n",
    "oof_xgb = oof_xgb.to_frame()\n",
    "\n",
    "oof_xgb = oof_xgb.merge(oof, left_on='customer_ID', right_on='customer_ID')\n",
    "\n",
    "oof_xgb.to_csv(f'oof_xgb_v{Model_Parameters.VER}.csv',index=False)\n",
    "oof_xgb.head()"
   ]
  },
  {
   "cell_type": "code",
   "execution_count": 20,
   "id": "07890956-069f-4b1e-9a08-87a31e282f85",
   "metadata": {},
   "outputs": [
    {
     "data": {
      "image/png": "[encoded data removed]",
      "text/plain": [
       "<Figure size 432x288 with 1 Axes>"
      ]
     },
     "metadata": {
      "needs_background": "light"
     },
     "output_type": "display_data"
    }
   ],
   "source": [
    "# PLOT OOF PREDICTIONS\n",
    "plt.hist(oof_xgb.oof_pred.values, bins=100)\n",
    "plt.title('OOF Predictions')\n",
    "plt.show()"
   ]
  },
  {
   "cell_type": "code",
   "execution_count": 21,
   "id": "0c3250b4-99dc-47f1-8cb2-794009897953",
   "metadata": {},
   "outputs": [],
   "source": [
    "del oof_xgb, oof\n",
    "_ = gc.collect()"
   ]
  },
  {
   "cell_type": "code",
   "execution_count": 22,
   "id": "1be516fd-8fd0-4897-a9a0-91486e8b263a",
   "metadata": {},
   "outputs": [],
   "source": [
    "#####\n",
    "# Test\n",
    "test_df = pd.read_parquet('Processed_Data/test.parquet')"
   ]
  },
  {
   "cell_type": "code",
   "execution_count": 6,
   "id": "6fc297c8-8229-4133-8b4e-3c1c3ce6e3d4",
   "metadata": {},
   "outputs": [],
   "source": [
    "if Train_Parameters.compute_test_df:\n",
    "    test = test_df.loc[:, ~test_df.columns.isin(Model_Parameters.ignored_columns)]\n",
    "    test = agglomeration_function(test, num_features=num_features, cat_features=cat_features, ignore=None, apply_pca=False)\n",
    "    customer_ID_cols = test_df.groupby('customer_ID')['customer_ID'].tail(1).reset_index(drop=True)\n",
    "    test = pd.concat([customer_ID_cols, test], axis=1)\n",
    "    test.to_csv('Processed_Data/test_FE', index=False)\n",
    "else:\n",
    "    test = pd.read_csv('Processed_Data/test_FE')\n",
    "\n",
    "# test = test.drop(list(less_important_features.values), axis=1)"
   ]
  },
  {
   "cell_type": "code",
   "execution_count": 23,
   "id": "0f1e290d-6481-4968-b6b1-5e8a7e00b525",
   "metadata": {},
   "outputs": [],
   "source": [
    "del train_df"
   ]
  },
  {
   "cell_type": "code",
   "execution_count": 25,
   "id": "a3050ed5-f52a-49f1-91f3-952aad9bfd24",
   "metadata": {},
   "outputs": [],
   "source": [
    "del test_df"
   ]
  },
  {
   "cell_type": "code",
   "execution_count": 3,
   "id": "34d750f0-34f1-49a8-8b52-55fea6d76293",
   "metadata": {},
   "outputs": [],
   "source": [
    "test = pd.read_csv('Processed_Data/test_FE')"
   ]
  },
  {
   "cell_type": "code",
   "execution_count": 22,
   "id": "620692d1-97e5-4761-b856-badc14d721ea",
   "metadata": {},
   "outputs": [],
   "source": [
    "test = pd.read_csv('Processed_Data/test_FE', usecols=['customer_ID'])"
   ]
  },
  {
   "cell_type": "code",
   "execution_count": 9,
   "id": "223b865c-eb3e-40a7-ba1b-a6ae3929bde2",
   "metadata": {},
   "outputs": [
    {
     "ename": "NameError",
     "evalue": "name 'test' is not defined",
     "output_type": "error",
     "traceback": [
      "\u001b[0;31m---------------------------------------------------------------------------\u001b[0m",
      "\u001b[0;31mNameError\u001b[0m                                 Traceback (most recent call last)",
      "\u001b[0;32m<ipython-input-9-cc6f83401edc>\u001b[0m in \u001b[0;36m<module>\u001b[0;34m\u001b[0m\n\u001b[0;32m----> 1\u001b[0;31m \u001b[0;32mdel\u001b[0m \u001b[0mtest\u001b[0m\u001b[0;34m\u001b[0m\u001b[0;34m\u001b[0m\u001b[0m\n\u001b[0m",
      "\u001b[0;31mNameError\u001b[0m: name 'test' is not defined"
     ]
    }
   ],
   "source": [
    "del test"
   ]
  },
  {
   "cell_type": "code",
   "execution_count": 10,
   "id": "6eb5063f-0fd5-4abc-b69b-ccaf25cef7c7",
   "metadata": {},
   "outputs": [
    {
     "ename": "NameError",
     "evalue": "name 'test_df' is not defined",
     "output_type": "error",
     "traceback": [
      "\u001b[0;31m---------------------------------------------------------------------------\u001b[0m",
      "\u001b[0;31mNameError\u001b[0m                                 Traceback (most recent call last)",
      "\u001b[0;32m<ipython-input-10-33cff6045939>\u001b[0m in \u001b[0;36m<module>\u001b[0;34m\u001b[0m\n\u001b[0;32m----> 1\u001b[0;31m \u001b[0;32mdel\u001b[0m \u001b[0mtest_df\u001b[0m\u001b[0;34m\u001b[0m\u001b[0;34m\u001b[0m\u001b[0m\n\u001b[0m",
      "\u001b[0;31mNameError\u001b[0m: name 'test_df' is not defined"
     ]
    }
   ],
   "source": [
    "del test_df"
   ]
  },
  {
   "cell_type": "code",
   "execution_count": 7,
   "id": "f668df6f-893f-41ad-9a56-3f555a41a69d",
   "metadata": {},
   "outputs": [],
   "source": [
    "# Main prediction routine\n",
    "####################################\n",
    "model = xgb.Booster()\n",
    "model.load_model(f'XGB_v{Model_Parameters.VER}_fold0.json')\n",
    "y_test = xgb.DMatrix(data=test.iloc[:, 1:], enable_categorical=True)\n",
    "y_pred = model.predict(y_test)\n",
    "del model, test\n",
    "\n",
    "for i in range(4):\n",
    "    model = xgb.Booster()\n",
    "    model.load_model(f'XGB_v{Model_Parameters.VER}_fold{i+1}.json')\n",
    "    y_pred += model.predict(y_test)\n",
    "    del model\n",
    "    \n",
    "y_pred = y_pred/5"
   ]
  },
  {
   "cell_type": "code",
   "execution_count": 5,
   "id": "0dbfc852-e366-4e55-84f8-3f88c4f3e6b5",
   "metadata": {},
   "outputs": [],
   "source": [
    "# Predictions for hard sample\n",
    "####################################\n",
    "\n",
    "model = xgb.Booster()\n",
    "model.load_model(f'Model_Weights/XGB_hard_indicator_v{Model_Parameters.VER}_fold0.json')\n",
    "y_test = xgb.DMatrix(data=test.iloc[:, 1:], enable_categorical=True)\n",
    "y_pred = model.predict(y_test)\n",
    "del model, test\n",
    "\n",
    "for i in range(1):\n",
    "    model = xgb.Booster()\n",
    "    model.load_model(f'Model_Weights/XGB_v{Model_Parameters.VER}_fold{i+1}.json')\n",
    "    y_pred += model.predict(y_test)\n",
    "    del model\n",
    "    \n",
    "y_pred = y_pred/2\n",
    "# sample_df = pd.read_csv('amex-default-prediction/sample_submission.csv')\n",
    "# submission = pd.DataFrame({'customer_ID': test['customer_ID'], 'target': y_pred})\n"
   ]
  },
  {
   "cell_type": "code",
   "execution_count": 5,
   "id": "adc3a9b1-5fab-45e5-8317-7e5d4a4f2679",
   "metadata": {},
   "outputs": [],
   "source": [
    "# Secondary Model prediction routine\n",
    "####################################\n",
    "\n",
    "model = xgb.Booster()\n",
    "model.load_model(f'XGB_v{Model_Parameters.VER}_fold0.json')\n",
    "\n"
   ]
  },
  {
   "cell_type": "code",
   "execution_count": 6,
   "id": "75f3c868-db67-4efc-8927-419189b7134d",
   "metadata": {},
   "outputs": [],
   "source": [
    "y_test = xgb.DMatrix(data=test.iloc[:, 1:], enable_categorical=True)\n",
    "y_pred = model.predict(y_test)\n",
    "del model, test\n",
    "\n",
    "for i in range(1):\n",
    "    model = xgb.Booster()\n",
    "    model.load_model(f'XGB_v{Model_Parameters.VER}_fold{i+1}.json')\n",
    "    y_pred += model.predict(y_test)\n",
    "    del model\n",
    "    \n",
    "y_pred = y_pred/2"
   ]
  },
  {
   "cell_type": "code",
   "execution_count": 17,
   "id": "01a7b86f-566f-4421-a47a-8b680d60a047",
   "metadata": {},
   "outputs": [],
   "source": [
    "save_y_pred = pd.DataFrame(y_pred)"
   ]
  },
  {
   "cell_type": "code",
   "execution_count": 20,
   "id": "f0b0b393-8322-451e-9d98-b99982b7998e",
   "metadata": {},
   "outputs": [],
   "source": [
    "save_y_pred.to_csv('hard_model_y_pred.csv')"
   ]
  },
  {
   "cell_type": "code",
   "execution_count": null,
   "id": "5c9ef439-b6a4-4599-8c04-af00b3e8bc32",
   "metadata": {},
   "outputs": [],
   "source": []
  },
  {
   "cell_type": "code",
   "execution_count": 24,
   "id": "d5873907-4a24-4738-beca-b8dd3a7a84c5",
   "metadata": {},
   "outputs": [
    {
     "name": "stdout",
     "output_type": "stream",
     "text": [
      "(924621, 2) (924621, 2)\n"
     ]
    }
   ],
   "source": [
    "# Create hard sample list\n",
    "#############\n",
    "\n",
    "sample_df = pd.read_csv('amex-default-prediction/sample_submission.csv')\n",
    "submission = pd.DataFrame({'customer_ID': test['customer_ID'], 'target': y_pred})\n",
    "# submission = submission.groupby(by='customer_ID').mean()\n",
    "print(sample_df.shape, submission.shape)\n",
    "sample_df['hard_prediction'] = submission.target.values\n",
    "sample_df.to_csv(f'output_XGBoost_hard_indicator_ver{Model_Parameters.VER}.csv', index=False)"
   ]
  },
  {
   "cell_type": "code",
   "execution_count": null,
   "id": "8755256c-cb23-456c-acce-7e17f8f44eac",
   "metadata": {},
   "outputs": [],
   "source": [
    "# create submission\n",
    "sample_df = pd.read_csv('amex-default-prediction/sample_submission.csv')\n",
    "submission = pd.DataFrame({'customer_ID': test['customer_ID'], 'target': y_pred})\n",
    "# submission = submission.groupby(by='customer_ID').mean()\n",
    "print(sample_df.shape, submission.shape)\n",
    "sample_df['prediction'] = submission.target.values\n",
    "sample_df.to_csv(f'output_XGBoost_ver{Model_Parameters.VER}.csv', index=False)"
   ]
  },
  {
   "cell_type": "code",
   "execution_count": null,
   "id": "d1f5f043-343d-4250-84ca-9c5bf8f058cd",
   "metadata": {},
   "outputs": [],
   "source": [
    "# find permutation importance based on test data\n",
    "model_sklearn_api = xgb.XGBClassifier()\n",
    "model_sklearn_api.load_model(f'XGB_v{Model_Parameters.VER}_fold{fold}.json')\n",
    "\n",
    "perm_importance = permutation_importance(model_sklearn_api, test.iloc[:10000,1:], test.iloc[:10000,-1], n_repeats=1, n_jobs=-1)\n",
    "perm_importance = pd.DataFrame.from_dict(perm_importance.importances_mean)\n",
    "perm_importance2 = pd.DataFrame({'importances':perm_importance.values.flatten(),'feature name': test.iloc[:, 1:].columns.values})\n",
    "perm_importance2.to_csv(f'perm_importances_{Model_Parameters.VER}')"
   ]
  },
  {
   "cell_type": "code",
   "execution_count": null,
   "id": "202014c3-b141-4855-9f11-8c07d7f2fd1b",
   "metadata": {},
   "outputs": [],
   "source": [
    "# Plot a tree for fun\n",
    "\n",
    "from xgboost import plot_tree\n",
    "import matplotlib.pyplot as plt\n",
    "\n",
    "plot_tree(model, num_trees=1)\n",
    "fig = plt.gcf()\n",
    "fig.set_size_inches(300, 150)\n",
    "plt.savefig('pic.jpg', dpi='figure')\n",
    "\n",
    "oof_xgb = pd.read_csv(f'oof_xgb_v{Model_Parameters.VER}.csv')"
   ]
  },
  {
   "cell_type": "code",
   "execution_count": 27,
   "id": "a26d8a32-768e-42fa-9cd1-c434b3421948",
   "metadata": {},
   "outputs": [],
   "source": [
    "# Play around with multiple CSVs output\n",
    "based_pred = pd.read_csv('output_XGBoost_ver2.csv')\n",
    "hard_indicator = pd.read_csv('output_XGBoost_hard_indicator_ver2.csv')\n",
    "hard_pred = pd.read_csv('output_XGBoost_hard_indicator_verHARD_Samples_1.csv')"
   ]
  },
  {
   "cell_type": "code",
   "execution_count": 32,
   "id": "e7b75887-1f01-4160-bf58-191c27eff279",
   "metadata": {},
   "outputs": [
    {
     "data": {
      "text/plain": [
       "<matplotlib.axes._subplots.AxesSubplot at 0x7fa499f45490>"
      ]
     },
     "execution_count": 32,
     "metadata": {},
     "output_type": "execute_result"
    },
    {
     "data": {
      "image/png": "[encoded data removed]",
      "text/plain": [
       "<Figure size 432x288 with 1 Axes>"
      ]
     },
     "metadata": {
      "needs_background": "light"
     },
     "output_type": "display_data"
    }
   ],
   "source": [
    "based_pred.prediction.hist()"
   ]
  },
  {
   "cell_type": "code",
   "execution_count": 29,
   "id": "4b2f1f34-8b9a-412e-a9bf-b767df0a7fb2",
   "metadata": {},
   "outputs": [
    {
     "data": {
      "text/html": [
       "<div>\n",
       "<style scoped>\n",
       "    .dataframe tbody tr th:only-of-type {\n",
       "        vertical-align: middle;\n",
       "    }\n",
       "\n",
       "    .dataframe tbody tr th {\n",
       "        vertical-align: top;\n",
       "    }\n",
       "\n",
       "    .dataframe thead th {\n",
       "        text-align: right;\n",
       "    }\n",
       "</style>\n",
       "<table border=\"1\" class=\"dataframe\">\n",
       "  <thead>\n",
       "    <tr style=\"text-align: right;\">\n",
       "      <th></th>\n",
       "      <th>customer_ID</th>\n",
       "      <th>prediction</th>\n",
       "      <th>hard_prediction</th>\n",
       "    </tr>\n",
       "  </thead>\n",
       "  <tbody>\n",
       "    <tr>\n",
       "      <th>0</th>\n",
       "      <td>00000469ba478561f23a92a868bd366de6f6527a684c9a...</td>\n",
       "      <td>0</td>\n",
       "      <td>0.348030</td>\n",
       "    </tr>\n",
       "    <tr>\n",
       "      <th>1</th>\n",
       "      <td>00001bf2e77ff879fab36aa4fac689b9ba411dae63ae39...</td>\n",
       "      <td>0</td>\n",
       "      <td>0.076411</td>\n",
       "    </tr>\n",
       "    <tr>\n",
       "      <th>2</th>\n",
       "      <td>0000210045da4f81e5f122c6bde5c2a617d03eef67f82c...</td>\n",
       "      <td>0</td>\n",
       "      <td>0.196612</td>\n",
       "    </tr>\n",
       "    <tr>\n",
       "      <th>3</th>\n",
       "      <td>00003b41e58ede33b8daf61ab56d9952f17c9ad1c3976c...</td>\n",
       "      <td>0</td>\n",
       "      <td>0.465167</td>\n",
       "    </tr>\n",
       "    <tr>\n",
       "      <th>4</th>\n",
       "      <td>00004b22eaeeeb0ec976890c1d9bfc14fd9427e98c4ee9...</td>\n",
       "      <td>0</td>\n",
       "      <td>0.839038</td>\n",
       "    </tr>\n",
       "  </tbody>\n",
       "</table>\n",
       "</div>"
      ],
      "text/plain": [
       "                                         customer_ID  prediction  \\\n",
       "0  00000469ba478561f23a92a868bd366de6f6527a684c9a...           0   \n",
       "1  00001bf2e77ff879fab36aa4fac689b9ba411dae63ae39...           0   \n",
       "2  0000210045da4f81e5f122c6bde5c2a617d03eef67f82c...           0   \n",
       "3  00003b41e58ede33b8daf61ab56d9952f17c9ad1c3976c...           0   \n",
       "4  00004b22eaeeeb0ec976890c1d9bfc14fd9427e98c4ee9...           0   \n",
       "\n",
       "   hard_prediction  \n",
       "0         0.348030  \n",
       "1         0.076411  \n",
       "2         0.196612  \n",
       "3         0.465167  \n",
       "4         0.839038  "
      ]
     },
     "execution_count": 29,
     "metadata": {},
     "output_type": "execute_result"
    }
   ],
   "source": [
    "hard_indicator.head()"
   ]
  },
  {
   "cell_type": "code",
   "execution_count": 31,
   "id": "cb536b0e-6778-4bca-9a83-4edb3ea38ba0",
   "metadata": {},
   "outputs": [
    {
     "data": {
      "text/plain": [
       "<matplotlib.axes._subplots.AxesSubplot at 0x7fa499b227d0>"
      ]
     },
     "execution_count": 31,
     "metadata": {},
     "output_type": "execute_result"
    },
    {
     "data": {
      "image/png": "[encoded data removed]",
      "text/plain": [
       "<Figure size 432x288 with 1 Axes>"
      ]
     },
     "metadata": {
      "needs_background": "light"
     },
     "output_type": "display_data"
    }
   ],
   "source": [
    "hard_pred.hard_prediction.hist()"
   ]
  },
  {
   "cell_type": "code",
   "execution_count": 33,
   "id": "0481eaa8-cdc3-4d79-acd9-33544d0f1003",
   "metadata": {},
   "outputs": [],
   "source": [
    "combined_pred = pd.concat([based_pred, hard_indicator[['hard_prediction']], hard_pred[['hard_prediction']]], axis=1)"
   ]
  },
  {
   "cell_type": "code",
   "execution_count": 39,
   "id": "f050a6f2-469b-4f60-9b54-06712200fff3",
   "metadata": {},
   "outputs": [
    {
     "data": {
      "text/html": [
       "<div>\n",
       "<style scoped>\n",
       "    .dataframe tbody tr th:only-of-type {\n",
       "        vertical-align: middle;\n",
       "    }\n",
       "\n",
       "    .dataframe tbody tr th {\n",
       "        vertical-align: top;\n",
       "    }\n",
       "\n",
       "    .dataframe thead th {\n",
       "        text-align: right;\n",
       "    }\n",
       "</style>\n",
       "<table border=\"1\" class=\"dataframe\">\n",
       "  <thead>\n",
       "    <tr style=\"text-align: right;\">\n",
       "      <th></th>\n",
       "      <th>customer_ID</th>\n",
       "      <th>prediction</th>\n",
       "      <th>hard_indicator</th>\n",
       "      <th>hard_indicator</th>\n",
       "    </tr>\n",
       "  </thead>\n",
       "  <tbody>\n",
       "    <tr>\n",
       "      <th>0</th>\n",
       "      <td>00000469ba478561f23a92a868bd366de6f6527a684c9a...</td>\n",
       "      <td>0.020594</td>\n",
       "      <td>0.348030</td>\n",
       "      <td>0.271675</td>\n",
       "    </tr>\n",
       "    <tr>\n",
       "      <th>1</th>\n",
       "      <td>00001bf2e77ff879fab36aa4fac689b9ba411dae63ae39...</td>\n",
       "      <td>0.000647</td>\n",
       "      <td>0.076411</td>\n",
       "      <td>0.013411</td>\n",
       "    </tr>\n",
       "    <tr>\n",
       "      <th>2</th>\n",
       "      <td>0000210045da4f81e5f122c6bde5c2a617d03eef67f82c...</td>\n",
       "      <td>0.053484</td>\n",
       "      <td>0.196612</td>\n",
       "      <td>0.178696</td>\n",
       "    </tr>\n",
       "    <tr>\n",
       "      <th>3</th>\n",
       "      <td>00003b41e58ede33b8daf61ab56d9952f17c9ad1c3976c...</td>\n",
       "      <td>0.251206</td>\n",
       "      <td>0.465167</td>\n",
       "      <td>0.764755</td>\n",
       "    </tr>\n",
       "    <tr>\n",
       "      <th>4</th>\n",
       "      <td>00004b22eaeeeb0ec976890c1d9bfc14fd9427e98c4ee9...</td>\n",
       "      <td>0.967717</td>\n",
       "      <td>0.839038</td>\n",
       "      <td>0.975750</td>\n",
       "    </tr>\n",
       "    <tr>\n",
       "      <th>...</th>\n",
       "      <td>...</td>\n",
       "      <td>...</td>\n",
       "      <td>...</td>\n",
       "      <td>...</td>\n",
       "    </tr>\n",
       "    <tr>\n",
       "      <th>924616</th>\n",
       "      <td>ffff952c631f2c911b8a2a8ca56ea6e656309a83d2f64c...</td>\n",
       "      <td>0.009806</td>\n",
       "      <td>0.207824</td>\n",
       "      <td>0.100865</td>\n",
       "    </tr>\n",
       "    <tr>\n",
       "      <th>924617</th>\n",
       "      <td>ffffcf5df59e5e0bba2a5ac4578a34e2b5aa64a1546cd3...</td>\n",
       "      <td>0.873454</td>\n",
       "      <td>0.770503</td>\n",
       "      <td>0.975703</td>\n",
       "    </tr>\n",
       "    <tr>\n",
       "      <th>924618</th>\n",
       "      <td>ffffd61f098cc056dbd7d2a21380c4804bbfe60856f475...</td>\n",
       "      <td>0.468530</td>\n",
       "      <td>0.504543</td>\n",
       "      <td>0.916121</td>\n",
       "    </tr>\n",
       "    <tr>\n",
       "      <th>924619</th>\n",
       "      <td>ffffddef1fc3643ea179c93245b68dca0f36941cd83977...</td>\n",
       "      <td>0.537231</td>\n",
       "      <td>0.606918</td>\n",
       "      <td>0.837707</td>\n",
       "    </tr>\n",
       "    <tr>\n",
       "      <th>924620</th>\n",
       "      <td>fffffa7cf7e453e1acc6a1426475d5cb9400859f82ff61...</td>\n",
       "      <td>0.092455</td>\n",
       "      <td>0.360701</td>\n",
       "      <td>0.464932</td>\n",
       "    </tr>\n",
       "  </tbody>\n",
       "</table>\n",
       "<p>924621 rows × 4 columns</p>\n",
       "</div>"
      ],
      "text/plain": [
       "                                              customer_ID  prediction  \\\n",
       "0       00000469ba478561f23a92a868bd366de6f6527a684c9a...    0.020594   \n",
       "1       00001bf2e77ff879fab36aa4fac689b9ba411dae63ae39...    0.000647   \n",
       "2       0000210045da4f81e5f122c6bde5c2a617d03eef67f82c...    0.053484   \n",
       "3       00003b41e58ede33b8daf61ab56d9952f17c9ad1c3976c...    0.251206   \n",
       "4       00004b22eaeeeb0ec976890c1d9bfc14fd9427e98c4ee9...    0.967717   \n",
       "...                                                   ...         ...   \n",
       "924616  ffff952c631f2c911b8a2a8ca56ea6e656309a83d2f64c...    0.009806   \n",
       "924617  ffffcf5df59e5e0bba2a5ac4578a34e2b5aa64a1546cd3...    0.873454   \n",
       "924618  ffffd61f098cc056dbd7d2a21380c4804bbfe60856f475...    0.468530   \n",
       "924619  ffffddef1fc3643ea179c93245b68dca0f36941cd83977...    0.537231   \n",
       "924620  fffffa7cf7e453e1acc6a1426475d5cb9400859f82ff61...    0.092455   \n",
       "\n",
       "        hard_indicator  hard_indicator  \n",
       "0             0.348030        0.271675  \n",
       "1             0.076411        0.013411  \n",
       "2             0.196612        0.178696  \n",
       "3             0.465167        0.764755  \n",
       "4             0.839038        0.975750  \n",
       "...                ...             ...  \n",
       "924616        0.207824        0.100865  \n",
       "924617        0.770503        0.975703  \n",
       "924618        0.504543        0.916121  \n",
       "924619        0.606918        0.837707  \n",
       "924620        0.360701        0.464932  \n",
       "\n",
       "[924621 rows x 4 columns]"
      ]
     },
     "execution_count": 39,
     "metadata": {},
     "output_type": "execute_result"
    }
   ],
   "source": [
    "combined_pred.rename(columns={'hard_prediction' : 'hard_indicator'})"
   ]
  },
  {
   "cell_type": "code",
   "execution_count": 81,
   "id": "fdfb688b-09a5-4988-b80b-0de2e8eb0b97",
   "metadata": {},
   "outputs": [],
   "source": [
    "new_pred_1 = combined_pred.loc[combined_pred.iloc[:,2]>0.8].iloc[:,[0,3]]"
   ]
  },
  {
   "cell_type": "code",
   "execution_count": 82,
   "id": "34a5adec-cb89-403c-84bf-11f3fe85cd09",
   "metadata": {},
   "outputs": [],
   "source": [
    "new_pred_2 = combined_pred.loc[combined_pred.iloc[:,2]<=0.8].iloc[:,[0,1]]"
   ]
  },
  {
   "cell_type": "code",
   "execution_count": 83,
   "id": "0fa98deb-4701-4aa7-85e7-552b4219b036",
   "metadata": {},
   "outputs": [],
   "source": [
    "new_pred_2 = new_pred_2.rename(columns={'prediction' : 'hard_prediction'})"
   ]
  },
  {
   "cell_type": "code",
   "execution_count": 84,
   "id": "8536e06b-7a34-4e32-b8c5-ff523ec21ff1",
   "metadata": {},
   "outputs": [],
   "source": [
    "new_pred_3 = pd.concat([new_pred_1, new_pred_2])"
   ]
  },
  {
   "cell_type": "code",
   "execution_count": 85,
   "id": "61a905ab-fb7c-4d14-b998-23d496a815b2",
   "metadata": {},
   "outputs": [
    {
     "data": {
      "text/html": [
       "<div>\n",
       "<style scoped>\n",
       "    .dataframe tbody tr th:only-of-type {\n",
       "        vertical-align: middle;\n",
       "    }\n",
       "\n",
       "    .dataframe tbody tr th {\n",
       "        vertical-align: top;\n",
       "    }\n",
       "\n",
       "    .dataframe thead th {\n",
       "        text-align: right;\n",
       "    }\n",
       "</style>\n",
       "<table border=\"1\" class=\"dataframe\">\n",
       "  <thead>\n",
       "    <tr style=\"text-align: right;\">\n",
       "      <th></th>\n",
       "      <th>customer_ID</th>\n",
       "      <th>hard_prediction</th>\n",
       "    </tr>\n",
       "  </thead>\n",
       "  <tbody>\n",
       "    <tr>\n",
       "      <th>4</th>\n",
       "      <td>00004b22eaeeeb0ec976890c1d9bfc14fd9427e98c4ee9...</td>\n",
       "      <td>0.975750</td>\n",
       "    </tr>\n",
       "    <tr>\n",
       "      <th>6</th>\n",
       "      <td>00007cfcce97abfa0b4fa0647986157281d01d3ab90de9...</td>\n",
       "      <td>0.990553</td>\n",
       "    </tr>\n",
       "    <tr>\n",
       "      <th>8</th>\n",
       "      <td>00008f50a1dd76fa211ba36a2b0d5a1b201e4134a5fd53...</td>\n",
       "      <td>0.949944</td>\n",
       "    </tr>\n",
       "    <tr>\n",
       "      <th>42</th>\n",
       "      <td>00031a864445aa09d272cda473069c8e1329604c6632e6...</td>\n",
       "      <td>0.972522</td>\n",
       "    </tr>\n",
       "    <tr>\n",
       "      <th>58</th>\n",
       "      <td>00041425846d01772af1bd18c7a70535ed88529240540f...</td>\n",
       "      <td>0.987974</td>\n",
       "    </tr>\n",
       "    <tr>\n",
       "      <th>...</th>\n",
       "      <td>...</td>\n",
       "      <td>...</td>\n",
       "    </tr>\n",
       "    <tr>\n",
       "      <th>924616</th>\n",
       "      <td>ffff952c631f2c911b8a2a8ca56ea6e656309a83d2f64c...</td>\n",
       "      <td>0.009806</td>\n",
       "    </tr>\n",
       "    <tr>\n",
       "      <th>924617</th>\n",
       "      <td>ffffcf5df59e5e0bba2a5ac4578a34e2b5aa64a1546cd3...</td>\n",
       "      <td>0.873454</td>\n",
       "    </tr>\n",
       "    <tr>\n",
       "      <th>924618</th>\n",
       "      <td>ffffd61f098cc056dbd7d2a21380c4804bbfe60856f475...</td>\n",
       "      <td>0.468530</td>\n",
       "    </tr>\n",
       "    <tr>\n",
       "      <th>924619</th>\n",
       "      <td>ffffddef1fc3643ea179c93245b68dca0f36941cd83977...</td>\n",
       "      <td>0.537231</td>\n",
       "    </tr>\n",
       "    <tr>\n",
       "      <th>924620</th>\n",
       "      <td>fffffa7cf7e453e1acc6a1426475d5cb9400859f82ff61...</td>\n",
       "      <td>0.092455</td>\n",
       "    </tr>\n",
       "  </tbody>\n",
       "</table>\n",
       "<p>924621 rows × 2 columns</p>\n",
       "</div>"
      ],
      "text/plain": [
       "                                              customer_ID  hard_prediction\n",
       "4       00004b22eaeeeb0ec976890c1d9bfc14fd9427e98c4ee9...         0.975750\n",
       "6       00007cfcce97abfa0b4fa0647986157281d01d3ab90de9...         0.990553\n",
       "8       00008f50a1dd76fa211ba36a2b0d5a1b201e4134a5fd53...         0.949944\n",
       "42      00031a864445aa09d272cda473069c8e1329604c6632e6...         0.972522\n",
       "58      00041425846d01772af1bd18c7a70535ed88529240540f...         0.987974\n",
       "...                                                   ...              ...\n",
       "924616  ffff952c631f2c911b8a2a8ca56ea6e656309a83d2f64c...         0.009806\n",
       "924617  ffffcf5df59e5e0bba2a5ac4578a34e2b5aa64a1546cd3...         0.873454\n",
       "924618  ffffd61f098cc056dbd7d2a21380c4804bbfe60856f475...         0.468530\n",
       "924619  ffffddef1fc3643ea179c93245b68dca0f36941cd83977...         0.537231\n",
       "924620  fffffa7cf7e453e1acc6a1426475d5cb9400859f82ff61...         0.092455\n",
       "\n",
       "[924621 rows x 2 columns]"
      ]
     },
     "execution_count": 85,
     "metadata": {},
     "output_type": "execute_result"
    }
   ],
   "source": [
    "new_pred_3"
   ]
  },
  {
   "cell_type": "code",
   "execution_count": 91,
   "id": "0afd20de-a248-4a93-87c4-0a004e8e9920",
   "metadata": {},
   "outputs": [],
   "source": [
    "new_pred_3.rename(columns={'hard_prediction': 'prediction'}, inplace=True)"
   ]
  },
  {
   "cell_type": "code",
   "execution_count": 92,
   "id": "c5f6f65c-d514-4fe9-a549-86d8c9a66a0e",
   "metadata": {},
   "outputs": [],
   "source": [
    "new_pred_3.sort_index(inplace=True)"
   ]
  },
  {
   "cell_type": "code",
   "execution_count": 93,
   "id": "4a4aa231-20be-4f67-8457-3e73aceeba77",
   "metadata": {},
   "outputs": [],
   "source": [
    "\n",
    "new_pred_3.to_csv('sample_pred.csv', index=False)"
   ]
  },
  {
   "cell_type": "code",
   "execution_count": null,
   "id": "0645ac26-43b7-468d-b152-326d80567a9d",
   "metadata": {},
   "outputs": [],
   "source": []
  }
 ],
 "metadata": {
  "kernelspec": {
   "display_name": "TensorFlow-GPU",
   "language": "python",
   "name": "tf-gpu"
  },
  "language_info": {
   "codemirror_mode": {
    "name": "ipython",
    "version": 3
   },
   "file_extension": ".py",
   "mimetype": "text/x-python",
   "name": "python",
   "nbconvert_exporter": "python",
   "pygments_lexer": "ipython3",
   "version": "3.7.4"
  }
 },
 "nbformat": 4,
 "nbformat_minor": 5
}
